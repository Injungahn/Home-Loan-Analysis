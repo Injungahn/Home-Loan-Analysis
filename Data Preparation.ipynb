{
  "cells": [
    {
      "metadata": {
        "trusted": true
      },
      "cell_type": "code",
      "source": "import pandas as pd\nfrom sklearn import preprocessing\nimport sklearn.model_selection as ms\nfrom sklearn import linear_model\nimport sklearn.metrics as sklm\nimport numpy as np\nimport numpy.random as nr\nimport matplotlib.pyplot as plt\nimport seaborn as sns\nimport scipy.stats as ss\nimport math\nfrom time import time\n%matplotlib inline",
      "execution_count": 1,
      "outputs": []
    },
    {
      "metadata": {
        "trusted": true
      },
      "cell_type": "code",
      "source": "#Read in data and labels\ndata = pd.read_csv('train_values.csv')\nlabels = pd.read_csv('train_labels_abiUmgM.csv')\n",
      "execution_count": 2,
      "outputs": []
    },
    {
      "metadata": {
        "trusted": true
      },
      "cell_type": "code",
      "source": "data.dtypes",
      "execution_count": 3,
      "outputs": [
        {
          "output_type": "execute_result",
          "execution_count": 3,
          "data": {
            "text/plain": "row_id                              int64\nloan_type                           int64\nproperty_type                       int64\nloan_purpose                        int64\noccupancy                           int64\nloan_amount                       float64\npreapproval                         int64\nmsa_md                              int64\nstate_code                          int64\ncounty_code                         int64\napplicant_ethnicity                 int64\napplicant_race                      int64\napplicant_sex                       int64\napplicant_income                  float64\npopulation                        float64\nminority_population_pct           float64\nffiecmedian_family_income         float64\ntract_to_msa_md_income_pct        float64\nnumber_of_owner-occupied_units    float64\nnumber_of_1_to_4_family_units     float64\nlender                              int64\nco_applicant                         bool\ndtype: object"
          },
          "metadata": {}
        }
      ]
    },
    {
      "metadata": {
        "trusted": true
      },
      "cell_type": "code",
      "source": "#Add labels to the data\nnumerical = ['loan_amount']\nX = data\nX = pd.concat([X,labels['rate_spread']], axis=1)\n",
      "execution_count": 4,
      "outputs": []
    },
    {
      "metadata": {
        "trusted": true
      },
      "cell_type": "code",
      "source": "#Drop non valuable columns and check for na values\nX = X.drop(columns=['applicant_income','population','minority_population_pct','ffiecmedian_family_income','tract_to_msa_md_income_pct','number_of_owner-occupied_units','number_of_1_to_4_family_units'], axis = 1)\nprint(X.isna().sum())\nX = X.dropna()\nprint(X.shape)\ny = X['rate_spread']",
      "execution_count": 5,
      "outputs": [
        {
          "output_type": "stream",
          "text": "row_id                 0\nloan_type              0\nproperty_type          0\nloan_purpose           0\noccupancy              0\nloan_amount            0\npreapproval            0\nmsa_md                 0\nstate_code             0\ncounty_code            0\napplicant_ethnicity    0\napplicant_race         0\napplicant_sex          0\nlender                 0\nco_applicant           0\nrate_spread            0\ndtype: int64\n(200000, 16)\n",
          "name": "stdout"
        }
      ]
    },
    {
      "metadata": {
        "trusted": true
      },
      "cell_type": "code",
      "source": "l = []\n#Find all rows in numerical columns that are 1.5 standard deviations above the mean\nfor col in numerical:\n    print(col)\n    arr = X[col]\n    elements = np.array(X[col])\n    mean = np.mean(elements, axis=0)\n    sd = np.std(elements, axis=0)\n    final_list = []\n\n    one_half_sd_above = mean + 1.5 * sd\n    \n    for i, row in X.iterrows():\n        if row[col] > one_half_sd_above:\n            final_list.append(i)\n            \n    print(len(final_list))\n    l += final_list\n    \n\nprint(len(l))",
      "execution_count": 6,
      "outputs": [
        {
          "output_type": "stream",
          "text": "loan_amount\n8383\n8383\n",
          "name": "stdout"
        }
      ]
    },
    {
      "metadata": {
        "trusted": true
      },
      "cell_type": "code",
      "source": "#Drop the rows that have values higher than 1.5 standard deviation\ns = set(l)\nprint(len(s))\ns = sorted(s, reverse=True)\ns = list(s)\nX = X.drop(s)\nprint(X.shape)",
      "execution_count": 7,
      "outputs": [
        {
          "output_type": "stream",
          "text": "8383\n(191617, 16)\n",
          "name": "stdout"
        }
      ]
    },
    {
      "metadata": {
        "trusted": true
      },
      "cell_type": "code",
      "source": "#Remove rows with a rate_spread value above 9.0\nX = X.loc[X['rate_spread'] < 9.0]\nprint(X.shape)",
      "execution_count": 8,
      "outputs": [
        {
          "output_type": "stream",
          "text": "(191426, 16)\n",
          "name": "stdout"
        }
      ]
    },
    {
      "metadata": {
        "trusted": true
      },
      "cell_type": "code",
      "source": "#Split data into labels and features and save into csvs\nnew_labels = pd.DataFrame(X['rate_spread'])\nX = X.drop(columns=['rate_spread'], axis = 1)\nnew_labels.to_csv('train_labels_prepped.csv', index = None, header = True)\nX.to_csv('train_values_prepped.csv', index = None, header=True)",
      "execution_count": 9,
      "outputs": []
    },
    {
      "metadata": {
        "trusted": true
      },
      "cell_type": "code",
      "source": "",
      "execution_count": null,
      "outputs": []
    }
  ],
  "metadata": {
    "kernelspec": {
      "name": "python2",
      "display_name": "Python 2",
      "language": "python"
    },
    "language_info": {
      "mimetype": "text/x-python",
      "nbconvert_exporter": "python",
      "name": "python",
      "pygments_lexer": "ipython2",
      "version": "2.7.15",
      "file_extension": ".py",
      "codemirror_mode": {
        "version": 2,
        "name": "ipython"
      }
    }
  },
  "nbformat": 4,
  "nbformat_minor": 2
}